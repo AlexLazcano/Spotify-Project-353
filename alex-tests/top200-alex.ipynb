{
 "cells": [
  {
   "cell_type": "code",
   "execution_count": 2,
   "metadata": {},
   "outputs": [],
   "source": [
    "import numpy as np\n",
    "import pandas as pd\n",
    "import math\n",
    "import matplotlib.pyplot as plt"
   ]
  },
  {
   "cell_type": "code",
   "execution_count": 3,
   "metadata": {},
   "outputs": [],
   "source": [
    "songs_data = pd.read_csv(\"../data/top-200-dataset/spotify-top-200-dataset.csv\", index_col=0, delimiter=';', parse_dates=['week'])\n"
   ]
  },
  {
   "cell_type": "code",
   "execution_count": 4,
   "metadata": {},
   "outputs": [
    {
     "data": {
      "text/plain": [
       "Index(['track_name', 'track_popularity', 'track_number', 'album_id',\n",
       "       'album_name', 'album_img', 'album_type', 'album_label',\n",
       "       'album_track_number', 'album_popularity', 'artist_num', 'artist_names',\n",
       "       'artist_id', 'artist_name', 'artist_img', 'artist_followers',\n",
       "       'artist_popularity', 'artist_genres', 'rank', 'week', 'collab',\n",
       "       'explicit', 'release_date', 'danceability', 'energy', 'key', 'mode',\n",
       "       'time_signature', 'loudness', 'speechiness', 'acousticness',\n",
       "       'instrumentalness', 'liveness', 'valence', 'tempo', 'duration', 'pivot',\n",
       "       'streams', 'track_index'],\n",
       "      dtype='object')"
      ]
     },
     "execution_count": 4,
     "metadata": {},
     "output_type": "execute_result"
    }
   ],
   "source": [
    "# songs_data[['track_name','artist_names', 'week']]\n",
    "types = songs_data.columns\n",
    "types\n",
    "\n",
    "\n",
    "\n",
    "    "
   ]
  },
  {
   "cell_type": "code",
   "execution_count": 5,
   "metadata": {},
   "outputs": [
    {
     "data": {
      "text/plain": [
       "track_id\n",
       "5aAx2yezTd8zXrkmtKl66Z                                              Starboy\n",
       "5aAx2yezTd8zXrkmtKl66Z                                              Starboy\n",
       "7BKLCZ1jbUBVqRi2FVlTVw                                               Closer\n",
       "7BKLCZ1jbUBVqRi2FVlTVw                                               Closer\n",
       "5knuzwU65gJK7IF5yJsuaW              Rockabye (feat. Sean Paul & Anne-Marie)\n",
       "5knuzwU65gJK7IF5yJsuaW              Rockabye (feat. Sean Paul & Anne-Marie)\n",
       "5knuzwU65gJK7IF5yJsuaW              Rockabye (feat. Sean Paul & Anne-Marie)\n",
       "4pdPtRcBmOSQDlJ3Fk945m                                      Let Me Love You\n",
       "4pdPtRcBmOSQDlJ3Fk945m                                      Let Me Love You\n",
       "3NdDpSvN911VPGivFlV5d0    I Don’t Wanna Live Forever (Fifty Shades Darke...\n",
       "3NdDpSvN911VPGivFlV5d0    I Don’t Wanna Live Forever (Fifty Shades Darke...\n",
       "5MFzQMkrl1FOOng9tq6R9r                                     Don't Wanna Know\n",
       "5MFzQMkrl1FOOng9tq6R9r                                     Don't Wanna Know\n",
       "343YBumqHu19cGoGARUTsd                                            Fake Love\n",
       "5uCax9HTNlzGybIStD3vDh                                 Say You Won't Let Go\n",
       "6b8Be6ljOzmkOmFslEb23P                                            24K Magic\n",
       "5GXAXm5YOmYT0kL5jHvYBt                                     I Feel It Coming\n",
       "5GXAXm5YOmYT0kL5jHvYBt                                     I Feel It Coming\n",
       "6fujklziTHa8uoM5OQSfIo                                        Black Beatles\n",
       "6fujklziTHa8uoM5OQSfIo                                        Black Beatles\n",
       "1xznGGDReH1oQq0xzbwXa3                                            One Dance\n",
       "1xznGGDReH1oQq0xzbwXa3                                            One Dance\n",
       "1xznGGDReH1oQq0xzbwXa3                                            One Dance\n",
       "6mICuAdrwEjh6Y6lroV2Kg                              Chantaje (feat. Maluma)\n",
       "6mICuAdrwEjh6Y6lroV2Kg                              Chantaje (feat. Maluma)\n",
       "6DNtNfH8hXkqOX1sjqmI7p                Cold Water (feat. Justin Bieber & MØ)\n",
       "6DNtNfH8hXkqOX1sjqmI7p                Cold Water (feat. Justin Bieber & MØ)\n",
       "6DNtNfH8hXkqOX1sjqmI7p                Cold Water (feat. Justin Bieber & MØ)\n",
       "78rIJddV4X0HkNAInEcYde              Call On Me - Ryan Riback Extended Remix\n",
       "78rIJddV4X0HkNAInEcYde              Call On Me - Ryan Riback Extended Remix\n",
       "04DwTuZ2VBdJCCC5TROn7L                                  In the Name of Love\n",
       "04DwTuZ2VBdJCCC5TROn7L                                  In the Name of Love\n",
       "4Km5HrUvYTaSUfiSGPJeQR                  Bad and Boujee (feat. Lil Uzi Vert)\n",
       "4Km5HrUvYTaSUfiSGPJeQR                  Bad and Boujee (feat. Lil Uzi Vert)\n",
       "4pLwZjInHj3SimIyN9SnOz                                         Side To Side\n",
       "4pLwZjInHj3SimIyN9SnOz                                         Side To Side\n",
       "3EmmCZoqpWOTY1g2GBwJoR                                         Just Hold On\n",
       "3EmmCZoqpWOTY1g2GBwJoR                                         Just Hold On\n",
       "1qOLh0tI7trd1zdDKxYZTe                                             Starving\n",
       "1qOLh0tI7trd1zdDKxYZTe                                             Starving\n",
       "1qOLh0tI7trd1zdDKxYZTe                                             Starving\n",
       "1PSBzsahR2AKwLJgx8ehBj                     Bad Things (with Camila Cabello)\n",
       "1PSBzsahR2AKwLJgx8ehBj                     Bad Things (with Camila Cabello)\n",
       "4TZy1wLyHec06pwgFYDh1a                                                Mercy\n",
       "1vvNmPOiUuyCbgWmtc6yfm                                               My Way\n",
       "2rizacJSyD9S1IQUxUxnsK                                          All We Know\n",
       "2rizacJSyD9S1IQUxUxnsK                                          All We Know\n",
       "0QsvXIfqM0zZoerQfsI9lm                       Don't Let Me Down (feat. Daya)\n",
       "0QsvXIfqM0zZoerQfsI9lm                       Don't Let Me Down (feat. Daya)\n",
       "4Hf7WnR761jpxPr5D46Bcd                                     Treat You Better\n",
       "Name: track_name, dtype: object"
      ]
     },
     "execution_count": 5,
     "metadata": {},
     "output_type": "execute_result"
    }
   ],
   "source": [
    "songs_data.head(50)['track_name']"
   ]
  },
  {
   "cell_type": "code",
   "execution_count": 6,
   "metadata": {},
   "outputs": [],
   "source": [
    "idx = songs_data.groupby(['week'])['rank'].transform(min) == songs_data['rank']\n",
    "df = songs_data[idx]\n",
    "df.to_csv('top-songs-per-week.csv')\n",
    "\n"
   ]
  },
  {
   "cell_type": "code",
   "execution_count": 7,
   "metadata": {},
   "outputs": [
    {
     "data": {
      "text/html": [
       "<div>\n",
       "<style scoped>\n",
       "    .dataframe tbody tr th:only-of-type {\n",
       "        vertical-align: middle;\n",
       "    }\n",
       "\n",
       "    .dataframe tbody tr th {\n",
       "        vertical-align: top;\n",
       "    }\n",
       "\n",
       "    .dataframe thead th {\n",
       "        text-align: right;\n",
       "    }\n",
       "</style>\n",
       "<table border=\"1\" class=\"dataframe\">\n",
       "  <thead>\n",
       "    <tr style=\"text-align: right;\">\n",
       "      <th></th>\n",
       "      <th>track_name</th>\n",
       "      <th>rank</th>\n",
       "      <th>week</th>\n",
       "    </tr>\n",
       "    <tr>\n",
       "      <th>track_id</th>\n",
       "      <th></th>\n",
       "      <th></th>\n",
       "      <th></th>\n",
       "    </tr>\n",
       "  </thead>\n",
       "  <tbody>\n",
       "    <tr>\n",
       "      <th>5aAx2yezTd8zXrkmtKl66Z</th>\n",
       "      <td>Starboy</td>\n",
       "      <td>1</td>\n",
       "      <td>2017-01-06</td>\n",
       "    </tr>\n",
       "    <tr>\n",
       "      <th>7BKLCZ1jbUBVqRi2FVlTVw</th>\n",
       "      <td>Closer</td>\n",
       "      <td>2</td>\n",
       "      <td>2017-01-06</td>\n",
       "    </tr>\n",
       "    <tr>\n",
       "      <th>5knuzwU65gJK7IF5yJsuaW</th>\n",
       "      <td>Rockabye (feat. Sean Paul &amp; Anne-Marie)</td>\n",
       "      <td>3</td>\n",
       "      <td>2017-01-06</td>\n",
       "    </tr>\n",
       "    <tr>\n",
       "      <th>4pdPtRcBmOSQDlJ3Fk945m</th>\n",
       "      <td>Let Me Love You</td>\n",
       "      <td>4</td>\n",
       "      <td>2017-01-06</td>\n",
       "    </tr>\n",
       "    <tr>\n",
       "      <th>3NdDpSvN911VPGivFlV5d0</th>\n",
       "      <td>I Don’t Wanna Live Forever (Fifty Shades Darke...</td>\n",
       "      <td>5</td>\n",
       "      <td>2017-01-06</td>\n",
       "    </tr>\n",
       "    <tr>\n",
       "      <th>...</th>\n",
       "      <td>...</td>\n",
       "      <td>...</td>\n",
       "      <td>...</td>\n",
       "    </tr>\n",
       "    <tr>\n",
       "      <th>19a3JfW8BQwqHWUMbcqSx8</th>\n",
       "      <td>Famous</td>\n",
       "      <td>196</td>\n",
       "      <td>2017-01-06</td>\n",
       "    </tr>\n",
       "    <tr>\n",
       "      <th>2q6tgiA9tpb6DMguABwCWE</th>\n",
       "      <td>All of Me</td>\n",
       "      <td>197</td>\n",
       "      <td>2017-01-06</td>\n",
       "    </tr>\n",
       "    <tr>\n",
       "      <th>494OU6M7NOf4ICYb4zWCf5</th>\n",
       "      <td>Sugar</td>\n",
       "      <td>198</td>\n",
       "      <td>2017-01-06</td>\n",
       "    </tr>\n",
       "    <tr>\n",
       "      <th>2jyjhRf6DVbMPU5zxagN2h</th>\n",
       "      <td>Let Her Go</td>\n",
       "      <td>199</td>\n",
       "      <td>2017-01-06</td>\n",
       "    </tr>\n",
       "    <tr>\n",
       "      <th>7AtlMCIauSQZqiXSlbBPW6</th>\n",
       "      <td>Bobo</td>\n",
       "      <td>200</td>\n",
       "      <td>2017-01-06</td>\n",
       "    </tr>\n",
       "  </tbody>\n",
       "</table>\n",
       "<p>200 rows × 3 columns</p>\n",
       "</div>"
      ],
      "text/plain": [
       "                                                               track_name  \\\n",
       "track_id                                                                    \n",
       "5aAx2yezTd8zXrkmtKl66Z                                            Starboy   \n",
       "7BKLCZ1jbUBVqRi2FVlTVw                                             Closer   \n",
       "5knuzwU65gJK7IF5yJsuaW            Rockabye (feat. Sean Paul & Anne-Marie)   \n",
       "4pdPtRcBmOSQDlJ3Fk945m                                    Let Me Love You   \n",
       "3NdDpSvN911VPGivFlV5d0  I Don’t Wanna Live Forever (Fifty Shades Darke...   \n",
       "...                                                                   ...   \n",
       "19a3JfW8BQwqHWUMbcqSx8                                             Famous   \n",
       "2q6tgiA9tpb6DMguABwCWE                                          All of Me   \n",
       "494OU6M7NOf4ICYb4zWCf5                                              Sugar   \n",
       "2jyjhRf6DVbMPU5zxagN2h                                         Let Her Go   \n",
       "7AtlMCIauSQZqiXSlbBPW6                                               Bobo   \n",
       "\n",
       "                        rank       week  \n",
       "track_id                                 \n",
       "5aAx2yezTd8zXrkmtKl66Z     1 2017-01-06  \n",
       "7BKLCZ1jbUBVqRi2FVlTVw     2 2017-01-06  \n",
       "5knuzwU65gJK7IF5yJsuaW     3 2017-01-06  \n",
       "4pdPtRcBmOSQDlJ3Fk945m     4 2017-01-06  \n",
       "3NdDpSvN911VPGivFlV5d0     5 2017-01-06  \n",
       "...                      ...        ...  \n",
       "19a3JfW8BQwqHWUMbcqSx8   196 2017-01-06  \n",
       "2q6tgiA9tpb6DMguABwCWE   197 2017-01-06  \n",
       "494OU6M7NOf4ICYb4zWCf5   198 2017-01-06  \n",
       "2jyjhRf6DVbMPU5zxagN2h   199 2017-01-06  \n",
       "7AtlMCIauSQZqiXSlbBPW6   200 2017-01-06  \n",
       "\n",
       "[200 rows x 3 columns]"
      ]
     },
     "execution_count": 7,
     "metadata": {},
     "output_type": "execute_result"
    }
   ],
   "source": [
    "firstweek = songs_data[songs_data['week'] == '2017-01-06'][['track_name', 'rank', 'week']].drop_duplicates()\n",
    "firstweek\n"
   ]
  },
  {
   "cell_type": "code",
   "execution_count": null,
   "metadata": {},
   "outputs": [],
   "source": []
  }
 ],
 "metadata": {
  "kernelspec": {
   "display_name": "Python 3.8.5 64-bit",
   "language": "python",
   "name": "python3"
  },
  "language_info": {
   "codemirror_mode": {
    "name": "ipython",
    "version": 3
   },
   "file_extension": ".py",
   "mimetype": "text/x-python",
   "name": "python",
   "nbconvert_exporter": "python",
   "pygments_lexer": "ipython3",
   "version": "3.8.5"
  },
  "orig_nbformat": 4,
  "vscode": {
   "interpreter": {
    "hash": "aee8b7b246df8f9039afb4144a1f6fd8d2ca17a180786b69acc140d282b71a49"
   }
  }
 },
 "nbformat": 4,
 "nbformat_minor": 2
}
